{
 "cells": [
  {
   "cell_type": "code",
   "execution_count": 1,
   "metadata": {},
   "outputs": [],
   "source": [
    "import numpy as np"
   ]
  },
  {
   "cell_type": "code",
   "execution_count": null,
   "metadata": {},
   "outputs": [],
   "source": [
    "class CustomLinearRegression :\n",
    "    def __init__ (self , X_data , y_target , learning_rate =0.01 , num_epochs =10000) :\n",
    "        self.num_samples = X_data.shape [0]\n",
    "        self.X_data = np.c_[np. ones (( self.num_samples , 1)), X_data ]\n",
    "        self.y_target = y_target\n",
    "        self.learning_rate = learning_rate\n",
    "        self.num_epochs = num_epochs\n",
    "\n",
    "        # Initial weights\n",
    "        self.theta = np. random.randn ( self.X_data.shape [1] , 1)\n",
    "        self.losses = []\n",
    "\n",
    "    def compute_loss (self , y_pred , y_target ):       \n",
    "        # compute loss\n",
    "        \n",
    "        return loss\n",
    "    def predict (self , X_data ):\n",
    "        y_pred = X_data.dot ( theta )\n",
    "        return y_pred\n",
    "    def fit( self ):\n",
    "        for epoch in range ( self.num_epochs ):\n",
    "\n",
    "            #*** Your Code Here ***\n",
    "            y_pred=self.predict(self.X_data)\n",
    "            loss = self.compute_loss (y_pred , self.y_target )\n",
    "            self.losses.append ( loss )\n",
    "            # compute gradient\n",
    "            loss_grd = 2*( y_pred - self.y_target )/ self.num_samples\n",
    "            gradients = self.X_data .T.dot( loss_grd )\n",
    "            # update weight\n",
    "            self.theta = self.theta - self.learning_rate * gradients\n",
    "            if ( epoch % 50) == 0:\n",
    "                print (f'Epoch : { epoch } - Loss : { loss }')\n",
    "\n",
    "        return {\n",
    "            'loss': sum( self.losses )/len( self.losses ),\n",
    "            'weight': self.theta\n",
    "        }\n",
    "        \n",
    " "
   ]
  },
  {
   "cell_type": "code",
   "execution_count": 2,
   "metadata": {},
   "outputs": [],
   "source": [
    "def r2score (y_pred , y):\n",
    "    rss = np.sum (( y_pred - y) ** 2)\n",
    "    tss = np.sum ((y-y. mean ()) ** 2)\n",
    "    r2 = 1 - (rss / tss)\n",
    "    return r2"
   ]
  },
  {
   "cell_type": "code",
   "execution_count": 6,
   "metadata": {},
   "outputs": [
    {
     "name": "stdout",
     "output_type": "stream",
     "text": [
      "1.0\n"
     ]
    }
   ],
   "source": [
    "# Case 1\n",
    "y_pred = np. array ([1 , 2, 3, 4, 5])\n",
    "y = np. array ([1 , 2, 3, 4, 5])\n",
    "t=r2score (y_pred , y)\n",
    "print(t)"
   ]
  },
  {
   "cell_type": "code",
   "execution_count": 7,
   "metadata": {},
   "outputs": [
    {
     "name": "stdout",
     "output_type": "stream",
     "text": [
      "-2.235294117647059\n"
     ]
    }
   ],
   "source": [
    "# Case 2\n",
    "y_pred = np. array ([1 , 2, 3, 4, 5])\n",
    "y = np. array ([3 , 5, 5, 2, 4])\n",
    "t=r2score (y_pred , y)\n",
    "print(t)"
   ]
  },
  {
   "cell_type": "code",
   "execution_count": 3,
   "metadata": {},
   "outputs": [],
   "source": [
    "import numpy as np\n",
    "from sklearn.preprocessing import PolynomialFeatures"
   ]
  },
  {
   "cell_type": "code",
   "execution_count": 1,
   "metadata": {},
   "outputs": [],
   "source": [
    "def create_polynomial_features (X, degree =2):\n",
    "    \"\"\" Creates the polynomial features\n",
    "    Args :\n",
    "    X: A array tensor for the data .\n",
    "    degree : A intege for the degree of\n",
    "    the generated polynomial function .\n",
    "    \"\"\"\n",
    "    X_new = X\n",
    "    for d in range(2, degree + 1):\n",
    "        X_new = np.c_[X_new, np.power(X, d)]    \n",
    "    return X_new\n"
   ]
  },
  {
   "cell_type": "code",
   "execution_count": 4,
   "metadata": {},
   "outputs": [],
   "source": [
    "\n",
    "X = np.array ([[1] , [2] , [3]])"
   ]
  },
  {
   "cell_type": "code",
   "execution_count": 7,
   "metadata": {},
   "outputs": [],
   "source": [
    "X_new=create_polynomial_features(X,3)"
   ]
  },
  {
   "cell_type": "code",
   "execution_count": 8,
   "metadata": {},
   "outputs": [
    {
     "data": {
      "text/plain": [
       "array([[ 1,  1,  1],\n",
       "       [ 2,  4,  8],\n",
       "       [ 3,  9, 27]])"
      ]
     },
     "execution_count": 8,
     "metadata": {},
     "output_type": "execute_result"
    }
   ],
   "source": [
    "X_new"
   ]
  },
  {
   "cell_type": "code",
   "execution_count": 26,
   "metadata": {},
   "outputs": [],
   "source": [
    "def create_polynomial_features (X, degree =2):\n",
    "    \"\"\" Creates the polynomial features\n",
    "    Args :\n",
    "    X: A array for the data .\n",
    "    degree : A intege for the degree of\n",
    "    the generated polynomial function .\n",
    "    \"\"\"\n",
    "    X_mem = []\n",
    "    for X_sub in X.T:\n",
    "       # X_sub = X_sub .T\n",
    "        X_new = X_sub\n",
    "        print(X_new)\n",
    "        for d in range (2, degree +1):\n",
    "            X_new = np.c_[X_new , np. power (X_sub , d)]\n",
    "        X_mem . extend ( X_new .T)\n",
    "    return np.c_[ X_mem ].T"
   ]
  },
  {
   "cell_type": "code",
   "execution_count": 27,
   "metadata": {},
   "outputs": [
    {
     "name": "stdout",
     "output_type": "stream",
     "text": [
      "[1 2 3]\n",
      "[2 3 4]\n"
     ]
    }
   ],
   "source": [
    "X = np. array ([[1 , 2],\n",
    "[2, 3],\n",
    "[3, 4]])\n",
    "degree = 2\n",
    "X_new=create_polynomial_features(X,degree)\n"
   ]
  },
  {
   "cell_type": "code",
   "execution_count": 28,
   "metadata": {},
   "outputs": [
    {
     "data": {
      "text/plain": [
       "array([[ 1,  1,  2,  4],\n",
       "       [ 2,  4,  3,  9],\n",
       "       [ 3,  9,  4, 16]])"
      ]
     },
     "execution_count": 28,
     "metadata": {},
     "output_type": "execute_result"
    }
   ],
   "source": [
    "X_new"
   ]
  },
  {
   "cell_type": "markdown",
   "metadata": {},
   "source": [
    "# Sales predection"
   ]
  },
  {
   "cell_type": "code",
   "execution_count": 43,
   "metadata": {},
   "outputs": [],
   "source": [
    "import numpy as np\n"
   ]
  },
  {
   "cell_type": "code",
   "execution_count": 44,
   "metadata": {},
   "outputs": [],
   "source": [
    "import pandas as pd"
   ]
  },
  {
   "cell_type": "code",
   "execution_count": 35,
   "metadata": {},
   "outputs": [],
   "source": [
    "df=pd.read_csv('SalesPrediction.csv')"
   ]
  },
  {
   "cell_type": "code",
   "execution_count": 45,
   "metadata": {},
   "outputs": [
    {
     "data": {
      "text/html": [
       "<div>\n",
       "<style scoped>\n",
       "    .dataframe tbody tr th:only-of-type {\n",
       "        vertical-align: middle;\n",
       "    }\n",
       "\n",
       "    .dataframe tbody tr th {\n",
       "        vertical-align: top;\n",
       "    }\n",
       "\n",
       "    .dataframe thead th {\n",
       "        text-align: right;\n",
       "    }\n",
       "</style>\n",
       "<table border=\"1\" class=\"dataframe\">\n",
       "  <thead>\n",
       "    <tr style=\"text-align: right;\">\n",
       "      <th></th>\n",
       "      <th>TV</th>\n",
       "      <th>Radio</th>\n",
       "      <th>Social Media</th>\n",
       "      <th>Sales</th>\n",
       "    </tr>\n",
       "  </thead>\n",
       "  <tbody>\n",
       "    <tr>\n",
       "      <th>count</th>\n",
       "      <td>4572.000000</td>\n",
       "      <td>4572.000000</td>\n",
       "      <td>4572.000000</td>\n",
       "      <td>4572.000000</td>\n",
       "    </tr>\n",
       "    <tr>\n",
       "      <th>mean</th>\n",
       "      <td>54.066857</td>\n",
       "      <td>18.160356</td>\n",
       "      <td>3.323956</td>\n",
       "      <td>192.466602</td>\n",
       "    </tr>\n",
       "    <tr>\n",
       "      <th>std</th>\n",
       "      <td>26.096461</td>\n",
       "      <td>9.672723</td>\n",
       "      <td>2.211218</td>\n",
       "      <td>93.071947</td>\n",
       "    </tr>\n",
       "    <tr>\n",
       "      <th>min</th>\n",
       "      <td>10.000000</td>\n",
       "      <td>0.000684</td>\n",
       "      <td>0.000031</td>\n",
       "      <td>31.199409</td>\n",
       "    </tr>\n",
       "    <tr>\n",
       "      <th>25%</th>\n",
       "      <td>32.000000</td>\n",
       "      <td>10.546519</td>\n",
       "      <td>1.529879</td>\n",
       "      <td>112.397660</td>\n",
       "    </tr>\n",
       "    <tr>\n",
       "      <th>50%</th>\n",
       "      <td>53.000000</td>\n",
       "      <td>17.875181</td>\n",
       "      <td>3.057150</td>\n",
       "      <td>189.632530</td>\n",
       "    </tr>\n",
       "    <tr>\n",
       "      <th>75%</th>\n",
       "      <td>77.000000</td>\n",
       "      <td>25.647476</td>\n",
       "      <td>4.805832</td>\n",
       "      <td>272.414914</td>\n",
       "    </tr>\n",
       "    <tr>\n",
       "      <th>max</th>\n",
       "      <td>100.000000</td>\n",
       "      <td>48.871161</td>\n",
       "      <td>13.981662</td>\n",
       "      <td>364.079751</td>\n",
       "    </tr>\n",
       "  </tbody>\n",
       "</table>\n",
       "</div>"
      ],
      "text/plain": [
       "                TV        Radio  Social Media        Sales\n",
       "count  4572.000000  4572.000000   4572.000000  4572.000000\n",
       "mean     54.066857    18.160356      3.323956   192.466602\n",
       "std      26.096461     9.672723      2.211218    93.071947\n",
       "min      10.000000     0.000684      0.000031    31.199409\n",
       "25%      32.000000    10.546519      1.529879   112.397660\n",
       "50%      53.000000    17.875181      3.057150   189.632530\n",
       "75%      77.000000    25.647476      4.805832   272.414914\n",
       "max     100.000000    48.871161     13.981662   364.079751"
      ]
     },
     "execution_count": 45,
     "metadata": {},
     "output_type": "execute_result"
    }
   ],
   "source": [
    "df.describe()"
   ]
  },
  {
   "cell_type": "code",
   "execution_count": 46,
   "metadata": {},
   "outputs": [],
   "source": [
    "df = pd. get_dummies (df)"
   ]
  },
  {
   "cell_type": "code",
   "execution_count": 47,
   "metadata": {},
   "outputs": [
    {
     "name": "stdout",
     "output_type": "stream",
     "text": [
      "        TV      Radio  Social Media       Sales  Influencer_Macro  \\\n",
      "0     16.0   6.566231      2.907983   54.732757             False   \n",
      "1     13.0   9.237765      2.409567   46.677897             False   \n",
      "2     41.0  15.886446      2.913410  150.177829             False   \n",
      "3     83.0  30.020028      6.922304  298.246340             False   \n",
      "4     15.0   8.437408      1.405998   56.594181             False   \n",
      "...    ...        ...           ...         ...               ...   \n",
      "4567  26.0   4.472360      0.717090   94.685866             False   \n",
      "4568  71.0  20.610685      6.545573  249.101915             False   \n",
      "4569  44.0  19.800072      5.096192  163.631457             False   \n",
      "4570  71.0  17.534640      1.940873  253.610411              True   \n",
      "4571  42.0  15.966688      5.046548  148.202414             False   \n",
      "\n",
      "      Influencer_Mega  Influencer_Micro  Influencer_Nano  \n",
      "0                True             False            False  \n",
      "1                True             False            False  \n",
      "2                True             False            False  \n",
      "3                True             False            False  \n",
      "4               False              True            False  \n",
      "...               ...               ...              ...  \n",
      "4567            False              True            False  \n",
      "4568            False             False             True  \n",
      "4569            False              True            False  \n",
      "4570            False             False            False  \n",
      "4571            False              True            False  \n",
      "\n",
      "[4572 rows x 8 columns]\n"
     ]
    }
   ],
   "source": [
    "print(df)"
   ]
  },
  {
   "cell_type": "code",
   "execution_count": 49,
   "metadata": {},
   "outputs": [],
   "source": [
    "df = df. fillna (df. mean ())\n",
    "# Get features\n",
    "X = df [['TV', 'Radio', 'Social Media', 'Influencer_Macro', 'Influencer_Mega', 'Influencer_Micro', 'Influencer_Nano']]\n",
    "y = df [['Sales']]\n",
    "# Train Test Split\n",
    "from sklearn . model_selection import train_test_split\n",
    "X_train , X_test , y_train , y_test = train_test_split (\n",
    "X,\n",
    "y,\n",
    "test_size =0.33 ,\n",
    "random_state =0\n",
    ")"
   ]
  },
  {
   "cell_type": "code",
   "execution_count": 50,
   "metadata": {},
   "outputs": [
    {
     "data": {
      "text/plain": [
       "54.173577723283785"
      ]
     },
     "execution_count": 50,
     "metadata": {},
     "output_type": "execute_result"
    }
   ],
   "source": [
    "from sklearn . preprocessing import StandardScaler\n",
    "scaler = StandardScaler ()\n",
    "X_train_processed = scaler . fit_transform ( X_train )\n",
    "scaler . mean_ [0]"
   ]
  },
  {
   "cell_type": "code",
   "execution_count": 56,
   "metadata": {},
   "outputs": [],
   "source": [
    "X_test_processed = scaler . fit_transform ( X_test )"
   ]
  },
  {
   "cell_type": "code",
   "execution_count": 58,
   "metadata": {},
   "outputs": [],
   "source": [
    "from sklearn . preprocessing import PolynomialFeatures\n",
    "poly_features = PolynomialFeatures ( degree =2)\n",
    "X_train_poly = poly_features . fit_transform ( X_train_processed )\n",
    "X_test_poly = poly_features . fit_transform ( X_test_processed )"
   ]
  },
  {
   "cell_type": "code",
   "execution_count": 59,
   "metadata": {},
   "outputs": [
    {
     "data": {
      "text/plain": [
       "-8.87604557350198e+20"
      ]
     },
     "execution_count": 59,
     "metadata": {},
     "output_type": "execute_result"
    }
   ],
   "source": [
    "from sklearn . linear_model import LinearRegression\n",
    "from sklearn . metrics import r2_score\n",
    "poly_model = LinearRegression ()\n",
    "poly_model .fit( X_train_poly , y_train )\n",
    "preds = poly_model . predict ( X_test_poly )\n",
    "r2_score (y_test , preds )"
   ]
  }
 ],
 "metadata": {
  "kernelspec": {
   "display_name": "Python 3",
   "language": "python",
   "name": "python3"
  },
  "language_info": {
   "codemirror_mode": {
    "name": "ipython",
    "version": 3
   },
   "file_extension": ".py",
   "mimetype": "text/x-python",
   "name": "python",
   "nbconvert_exporter": "python",
   "pygments_lexer": "ipython3",
   "version": "3.12.3"
  }
 },
 "nbformat": 4,
 "nbformat_minor": 2
}
