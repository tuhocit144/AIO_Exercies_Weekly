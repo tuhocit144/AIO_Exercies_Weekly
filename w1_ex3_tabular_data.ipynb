{
 "cells": [
  {
   "cell_type": "code",
   "execution_count": 2,
   "metadata": {},
   "outputs": [
    {
     "name": "stdout",
     "output_type": "stream",
     "text": [
      "Note: you may need to restart the kernel to use updated packages.\n"
     ]
    },
    {
     "name": "stderr",
     "output_type": "stream",
     "text": [
      "\n",
      "[notice] A new release of pip is available: 24.0 -> 24.1.2\n",
      "[notice] To update, run: python.exe -m pip install --upgrade pip\n"
     ]
    },
    {
     "name": "stdout",
     "output_type": "stream",
     "text": [
      "Collecting pandas\n",
      "  Using cached pandas-2.2.2-cp312-cp312-win_amd64.whl.metadata (19 kB)\n",
      "Requirement already satisfied: numpy>=1.26.0 in c:\\users\\dinht\\appdata\\local\\programs\\python\\python312\\lib\\site-packages (from pandas) (2.0.0)\n",
      "Requirement already satisfied: python-dateutil>=2.8.2 in c:\\users\\dinht\\appdata\\roaming\\python\\python312\\site-packages (from pandas) (2.9.0.post0)\n",
      "Collecting pytz>=2020.1 (from pandas)\n",
      "  Using cached pytz-2024.1-py2.py3-none-any.whl.metadata (22 kB)\n",
      "Collecting tzdata>=2022.7 (from pandas)\n",
      "  Using cached tzdata-2024.1-py2.py3-none-any.whl.metadata (1.4 kB)\n",
      "Requirement already satisfied: six>=1.5 in c:\\users\\dinht\\appdata\\roaming\\python\\python312\\site-packages (from python-dateutil>=2.8.2->pandas) (1.16.0)\n",
      "Using cached pandas-2.2.2-cp312-cp312-win_amd64.whl (11.5 MB)\n",
      "Using cached pytz-2024.1-py2.py3-none-any.whl (505 kB)\n",
      "Using cached tzdata-2024.1-py2.py3-none-any.whl (345 kB)\n",
      "Installing collected packages: pytz, tzdata, pandas\n",
      "Successfully installed pandas-2.2.2 pytz-2024.1 tzdata-2024.1\n"
     ]
    }
   ],
   "source": [
    "%pip install pandas"
   ]
  },
  {
   "cell_type": "code",
   "execution_count": 3,
   "metadata": {},
   "outputs": [
    {
     "name": "stdout",
     "output_type": "stream",
     "text": [
      "        TV  Radio  Newspaper  Sales\n",
      "0    230.1   37.8       69.2   22.1\n",
      "1     44.5   39.3       45.1   10.4\n",
      "2     17.2   45.9       69.3   12.0\n",
      "3    151.5   41.3       58.5   16.5\n",
      "4    180.8   10.8       58.4   17.9\n",
      "..     ...    ...        ...    ...\n",
      "195   38.2    3.7       13.8    7.6\n",
      "196   94.2    4.9        8.1   14.0\n",
      "197  177.0    9.3        6.4   14.8\n",
      "198  283.6   42.0       66.2   25.5\n",
      "199  232.1    8.6        8.7   18.4\n",
      "\n",
      "[200 rows x 4 columns]\n"
     ]
    }
   ],
   "source": [
    "# Load csv\n",
    "import pandas as pd\n",
    "df = pd.read_csv(\"./content/advertising.csv\")\n",
    "data = df.to_numpy()\n",
    "print(df)"
   ]
  },
  {
   "cell_type": "code",
   "execution_count": 4,
   "metadata": {},
   "outputs": [
    {
     "name": "stdout",
     "output_type": "stream",
     "text": [
      "27.0 175\n"
     ]
    }
   ],
   "source": [
    "#cau 15:\n",
    "import numpy as np\n",
    "sale_data=data[:,3]\n",
    "sale_max=np.max(sale_data)\n",
    "sale_idmax=np.argmax(sale_data)\n",
    "print(sale_max, sale_idmax)\n"
   ]
  },
  {
   "cell_type": "code",
   "execution_count": 5,
   "metadata": {},
   "outputs": [
    {
     "name": "stdout",
     "output_type": "stream",
     "text": [
      "147.0425\n"
     ]
    }
   ],
   "source": [
    "#cau 16: Gia trung binh cua cot TV\n",
    "tv_mean=data[:,0].mean()\n",
    "print(tv_mean)"
   ]
  },
  {
   "cell_type": "code",
   "execution_count": 6,
   "metadata": {},
   "outputs": [
    {
     "name": "stdout",
     "output_type": "stream",
     "text": [
      "40\n"
     ]
    }
   ],
   "source": [
    "#cau 17\n",
    "counter_sale=np.sum(data[:,3]>=20)\n",
    "print(counter_sale)"
   ]
  },
  {
   "cell_type": "code",
   "execution_count": 7,
   "metadata": {},
   "outputs": [
    {
     "name": "stdout",
     "output_type": "stream",
     "text": [
      "26.222935779816517\n"
     ]
    }
   ],
   "source": [
    "#cau 18\n",
    "sale_cond=data[:,3]>=15\n",
    "radio_data=data[:,1]\n",
    "radio_cond=radio_data*sale_cond\n",
    "radio_mean=np.sum(radio_cond)/np.sum(sale_cond)\n",
    "print(radio_mean)"
   ]
  },
  {
   "cell_type": "code",
   "execution_count": 8,
   "metadata": {},
   "outputs": [
    {
     "name": "stdout",
     "output_type": "stream",
     "text": [
      "1405.1\n"
     ]
    }
   ],
   "source": [
    "newspaper_data=data[:,2]\n",
    "newspaper_mean=newspaper_data.mean()\n",
    "newspaper_cond=newspaper_data>newspaper_mean\n",
    "sale_data=data[:,3]\n",
    "sale_cond=sale_data*newspaper_cond\n",
    "sale_sum=np.sum(sale_cond)\n",
    "print(sale_sum)\n"
   ]
  },
  {
   "cell_type": "code",
   "execution_count": 10,
   "metadata": {},
   "outputs": [
    {
     "name": "stdout",
     "output_type": "stream",
     "text": [
      "['Bad' 'Bad' 'Good']\n"
     ]
    }
   ],
   "source": [
    "#cau 20\n",
    "sale_data=data[:,3]\n",
    "sale_mean=sale_data.mean()\n",
    "sale_score=np.where(sale_data>sale_mean,'Good',np.where(sale_data<sale_mean,'Bad','Average'))\n",
    "print(sale_score[7:10])"
   ]
  },
  {
   "cell_type": "code",
   "execution_count": 12,
   "metadata": {},
   "outputs": [
    {
     "name": "stdout",
     "output_type": "stream",
     "text": [
      "['Bad' 'Bad' 'Good']\n"
     ]
    }
   ],
   "source": [
    "#cau 21\n",
    "sale_data=data[:,3]\n",
    "sale_mean=sale_data.mean()\n",
    "sub_mean=sale_mean-sale_data\n",
    "sub_abs=abs(sub_mean)\n",
    "average_idx=np.argmin(sub_abs)\n",
    "sale_average=sale_data[average_idx]\n",
    "score_sale=np.where(sale_data<sale_average,'Bad', np.where(sale_data>sale_average,'Good','Average'))\n",
    "print(score_sale[7:10])"
   ]
  }
 ],
 "metadata": {
  "kernelspec": {
   "display_name": "Python 3",
   "language": "python",
   "name": "python3"
  },
  "language_info": {
   "codemirror_mode": {
    "name": "ipython",
    "version": 3
   },
   "file_extension": ".py",
   "mimetype": "text/x-python",
   "name": "python",
   "nbconvert_exporter": "python",
   "pygments_lexer": "ipython3",
   "version": "3.12.3"
  }
 },
 "nbformat": 4,
 "nbformat_minor": 2
}
