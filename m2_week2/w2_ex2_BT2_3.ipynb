{
 "cells": [
  {
   "cell_type": "markdown",
   "metadata": {},
   "source": [
    "## 2.1 Eigenvector and eigenvalues:\n",
    "* $\n",
    "A \\in \\mathbb{R}^{n \\times n},  I \\ (\\text {identity matrix})  \\in \\mathbb{R}^{n \\times n} ,  \\mathbf{v} \\in \\mathbb{R}^n \n",
    " $\n",
    "* $\n",
    "Eigenvalue (\\lambda): \\text{det}(A - \\lambda I) = 0 \n",
    " $\n",
    " * $\n",
    "Eigenvector (v): \\text{Av} = \\lambda \\mathbf{v} \\iff (A - \\lambda I) \\mathbf{v} = 0\n",
    " $\n",
    "* $\n",
    "\\text{Normalize vector}:  \\frac{\\mathbf{v}}{\\|\\mathbf{v}\\|}, \\quad v_i = \\frac{v_i}{\\sqrt{\\sum_{i=1}^n v_i^2}}\n",
    " $\n",
    "\n"
   ]
  },
  {
   "cell_type": "code",
   "execution_count": 8,
   "metadata": {},
   "outputs": [],
   "source": [
    "import numpy as np\n",
    "def compute_eigenvalues_eigenvectors ( matrix ):\n",
    "# Tính eigenvalues và eigenvectors   \n",
    "    eigenvalues, eigenvectors = np.linalg.eig(matrix)\n",
    "    return eigenvalues , eigenvectors"
   ]
  },
  {
   "cell_type": "code",
   "execution_count": 3,
   "metadata": {},
   "outputs": [
    {
     "name": "stdout",
     "output_type": "stream",
     "text": [
      "2\n",
      "[[1. 0.]\n",
      " [0. 1.]]\n",
      "(array([1. , 0.7]), array([[ 0.89442719, -0.70710678],\n",
      "       [ 0.4472136 ,  0.70710678]]))\n"
     ]
    }
   ],
   "source": [
    "import numpy as np\n",
    "a=np.array([[0.9, 0.2],[0.1, 0.8]])\n",
    "print(compute_eigenvalues_eigenvectors(a))"
   ]
  },
  {
   "cell_type": "markdown",
   "metadata": {},
   "source": [
    "## 3.1 Cosine similarity\n",
    "* $ \n",
    "Data (vector x, y): x=\\text \\{x_1, x_2, ..., x_n\\}, y=\\text \\{y_1,y_2,...,y_n\\}\n",
    " $\n",
    "* $\n",
    "Cosine similarity: \\text{cs}(\\mathbf{x}, \\mathbf{y}) = \\frac{\\mathbf{x} \\cdot \\mathbf{y}}{\\|\\mathbf{x}\\| \\|\\mathbf{y}\\|} = \\frac{\\sum_{i=1}^{n} x_i y_i}{\\sqrt{\\sum_{i=1}^{n} x_i^2} \\sqrt{\\sum_{i=1}^{n} y_i^2}}\n",
    " $"
   ]
  },
  {
   "cell_type": "code",
   "execution_count": 12,
   "metadata": {},
   "outputs": [],
   "source": [
    "def compute_cosine (v1 , v2):\n",
    "    cos_sim=np.dot(v1,v2)/(np.linalg.norm(v1)*np.linalg.norm(v2))\n",
    "    return cos_sim"
   ]
  },
  {
   "cell_type": "code",
   "execution_count": 13,
   "metadata": {},
   "outputs": [
    {
     "name": "stdout",
     "output_type": "stream",
     "text": [
      "0.577\n"
     ]
    }
   ],
   "source": [
    "x=np.array([1,2,3,4])\n",
    "y=np.array([1,0,3,0])\n",
    "print(round(compute_cosine(x,y),3))"
   ]
  },
  {
   "cell_type": "code",
   "execution_count": null,
   "metadata": {},
   "outputs": [],
   "source": []
  }
 ],
 "metadata": {
  "kernelspec": {
   "display_name": "Python 3",
   "language": "python",
   "name": "python3"
  },
  "language_info": {
   "codemirror_mode": {
    "name": "ipython",
    "version": 3
   },
   "file_extension": ".py",
   "mimetype": "text/x-python",
   "name": "python",
   "nbconvert_exporter": "python",
   "pygments_lexer": "ipython3",
   "version": "3.12.3"
  }
 },
 "nbformat": 4,
 "nbformat_minor": 2
}
