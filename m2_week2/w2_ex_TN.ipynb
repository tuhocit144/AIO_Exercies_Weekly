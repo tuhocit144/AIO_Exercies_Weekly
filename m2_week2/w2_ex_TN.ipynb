{
 "cells": [
  {
   "cell_type": "code",
   "execution_count": 10,
   "metadata": {},
   "outputs": [],
   "source": [
    "import numpy as np\n",
    "# cau 1 a: do dai cua vector\n",
    "\n",
    "\n",
    "def compute_vector_length(vector):\n",
    "    # *********** Your code here ***********\n",
    "    len_of_vector = np.linalg.norm(vector)\n",
    "    return len_of_vector\n",
    "# cau 1b: tinh tich vo huong\n",
    "\n",
    "\n",
    "def compute_dot_product(vector1, vector2):\n",
    "    result = np.dot(vector1, vector2)\n",
    "    return result\n",
    "# cau 1c: nhan c voi ma tran\n",
    "\n",
    "\n",
    "def matrix_multi_vector(matrix, vector):\n",
    "    result = np.dot(matrix, vector)\n",
    "    return result\n",
    "# cau 1d: nhan ma tran voi ma tran\n",
    "\n",
    "\n",
    "def matrix_multi_matrix(matrix1, matrix2):\n",
    "    result = np.dot(matrix1, matrix2)\n",
    "    return result\n",
    "# cau 1e: tim ma tran nghich dao\n",
    "\n",
    "\n",
    "def inverse_matrix(matrix):\n",
    "    det_matrix = np.linalg.det(matrix)\n",
    "    if det_matrix != 0:\n",
    "        result = np.linalg.inv(matrix)\n",
    "    else:\n",
    "        result = None\n",
    "    return result"
   ]
  },
  {
   "cell_type": "code",
   "execution_count": 2,
   "metadata": {},
   "outputs": [
    {
     "name": "stdout",
     "output_type": "stream",
     "text": [
      "23.28\n"
     ]
    }
   ],
   "source": [
    "#TN1\n",
    "import numpy as np\n",
    "vector = np.array ([-2, 4, 9, 21])\n",
    "result = compute_vector_length ([ vector ])\n",
    "print ( round (result ,2))"
   ]
  },
  {
   "cell_type": "code",
   "execution_count": 3,
   "metadata": {},
   "outputs": [
    {
     "name": "stdout",
     "output_type": "stream",
     "text": [
      "4\n"
     ]
    }
   ],
   "source": [
    "v1 = np. array ([0 , 1, -1, 2])\n",
    "v2 = np. array ([2 , 5, 1, 0])\n",
    "result = compute_dot_product (v1 , v2)\n",
    "print ( round (result ,2))"
   ]
  },
  {
   "cell_type": "code",
   "execution_count": 4,
   "metadata": {},
   "outputs": [
    {
     "name": "stdout",
     "output_type": "stream",
     "text": [
      "result \n",
      " [ 5 11]\n"
     ]
    }
   ],
   "source": [
    "#TN3\n",
    "x = np. array ([[1 , 2],\n",
    "[3, 4]])\n",
    "k = np. array ([1 , 2])\n",
    "print ('result \\n', x.dot (k))"
   ]
  },
  {
   "cell_type": "code",
   "execution_count": 5,
   "metadata": {},
   "outputs": [
    {
     "name": "stdout",
     "output_type": "stream",
     "text": [
      "result \n",
      " [ 3 -5]\n"
     ]
    }
   ],
   "source": [
    "#TN4\n",
    "x = np.array ([[ -1 , 2],\n",
    "[3, -4]])\n",
    "k = np.array ([1 , 2])\n",
    "print ('result \\n', x@k)\n"
   ]
  },
  {
   "cell_type": "code",
   "execution_count": 8,
   "metadata": {},
   "outputs": [
    {
     "name": "stdout",
     "output_type": "stream",
     "text": [
      "[3 1]\n"
     ]
    }
   ],
   "source": [
    "m = np.array ([[ -1 , 1, 1], [0, -4, 9]])\n",
    "v = np.array ([0 , 2, 1])\n",
    "result = matrix_multi_vector (m, v)\n",
    "print ( result )"
   ]
  },
  {
   "cell_type": "code",
   "execution_count": 11,
   "metadata": {},
   "outputs": [
    {
     "name": "stdout",
     "output_type": "stream",
     "text": [
      "[[  6  -1]\n",
      " [-16 -10]]\n"
     ]
    }
   ],
   "source": [
    "m1 = np.array ([[0 , 1, 2], [2, -3, 1]])\n",
    "m2 = np.array ([[1 , -3] ,[6 , 1], [0, -1]])\n",
    "result = matrix_multi_matrix (m1 , m2)\n",
    "print ( result )"
   ]
  },
  {
   "cell_type": "code",
   "execution_count": 12,
   "metadata": {},
   "outputs": [
    {
     "name": "stdout",
     "output_type": "stream",
     "text": [
      "[[1. 1. 1.]\n",
      " [2. 2. 2.]\n",
      " [3. 3. 3.]]\n"
     ]
    }
   ],
   "source": [
    "m1 = np.eye (3)\n",
    "m2 = np.array ([[1 , 1, 1] ,[2 , 2, 2], [3, 3, 3]])\n",
    "result = m1@m2\n",
    "print ( result )"
   ]
  },
  {
   "cell_type": "code",
   "execution_count": 15,
   "metadata": {},
   "outputs": [
    {
     "name": "stdout",
     "output_type": "stream",
     "text": [
      "[5. 5. 5. 5.]\n"
     ]
    }
   ],
   "source": [
    "m1 = np.eye (2)\n",
    "m1 = np.reshape (m1 ,( -1 ,4))[0]\n",
    "m2 = np.array ([[1 , 1, 1, 1] ,[2 , 2, 2, 2], [3, 3, 3, 3], [4, 4, 4, 4]])\n",
    "result = m1@m2\n",
    "print ( result )"
   ]
  },
  {
   "cell_type": "code",
   "execution_count": 16,
   "metadata": {},
   "outputs": [
    {
     "name": "stdout",
     "output_type": "stream",
     "text": [
      "[29 29 29 29]\n"
     ]
    }
   ],
   "source": [
    "#TN9\n",
    "m1 = np. array ([[1 , 2], [3, 4]])\n",
    "m1 = np. reshape (m1 ,( -1 ,4) , \"F\")[0]\n",
    "m2 = np. array ([[1 , 1, 1, 1] ,[2 , 2, 2, 2], [3, 3, 3, 3], [4, 4, 4, 4]])\n",
    "result = m1@m2\n",
    "print ( result )"
   ]
  },
  {
   "cell_type": "code",
   "execution_count": 17,
   "metadata": {},
   "outputs": [
    {
     "name": "stdout",
     "output_type": "stream",
     "text": [
      "[[0.1  0.15]\n",
      " [0.2  0.05]]\n"
     ]
    }
   ],
   "source": [
    "#TN10\n",
    "m1 = np.array ([[ -2 , 6], [8, -4]])\n",
    "result = inverse_matrix (m1)\n",
    "print ( result )"
   ]
  },
  {
   "cell_type": "code",
   "execution_count": 18,
   "metadata": {},
   "outputs": [],
   "source": [
    "import numpy as np\n",
    "def compute_eigenvalues_eigenvectors ( matrix ):\n",
    "# Tính eigenvalues và eigenvectors   \n",
    "    eigenvalues, eigenvectors = np.linalg.eig(matrix)\n",
    "    return eigenvalues , eigenvectors"
   ]
  },
  {
   "cell_type": "code",
   "execution_count": 19,
   "metadata": {},
   "outputs": [
    {
     "name": "stdout",
     "output_type": "stream",
     "text": [
      "[[ 0.89442719 -0.70710678]\n",
      " [ 0.4472136   0.70710678]]\n"
     ]
    }
   ],
   "source": [
    "#TN11\n",
    "matrix = np.array ([[0.9 , 0.2] , [0.1 , 0.8]])\n",
    "eigenvalues , eigenvectors = compute_eigenvalues_eigenvectors ( matrix )\n",
    "print ( eigenvectors )"
   ]
  },
  {
   "cell_type": "code",
   "execution_count": 20,
   "metadata": {},
   "outputs": [],
   "source": [
    "def compute_cosine (v1 , v2):\n",
    "    cos_sim=np.dot(v1,v2)/(np.linalg.norm(v1)*np.linalg.norm(v2))\n",
    "    return cos_sim"
   ]
  },
  {
   "cell_type": "code",
   "execution_count": 21,
   "metadata": {},
   "outputs": [
    {
     "name": "stdout",
     "output_type": "stream",
     "text": [
      "0.577\n"
     ]
    }
   ],
   "source": [
    "#TN12\n",
    "x = np.array ([1 , 2, 3, 4])\n",
    "y = np.array ([1 , 0, 3, 0])\n",
    "result = compute_cosine (x,y)\n",
    "print ( round (result , 3))"
   ]
  }
 ],
 "metadata": {
  "kernelspec": {
   "display_name": "Python 3",
   "language": "python",
   "name": "python3"
  },
  "language_info": {
   "codemirror_mode": {
    "name": "ipython",
    "version": 3
   },
   "file_extension": ".py",
   "mimetype": "text/x-python",
   "name": "python",
   "nbconvert_exporter": "python",
   "pygments_lexer": "ipython3",
   "version": "3.12.3"
  }
 },
 "nbformat": 4,
 "nbformat_minor": 2
}
